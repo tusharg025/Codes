{
 "cells": [
  {
   "cell_type": "code",
   "execution_count": 1,
   "metadata": {},
   "outputs": [],
   "source": [
    "# Import libraries\n",
    "import numpy as np\n",
    "import matplotlib.pyplot as plt\n",
    "from sklearn.utils import shuffle\n",
    "import scipy.io as io"
   ]
  },
  {
   "cell_type": "code",
   "execution_count": 2,
   "metadata": {},
   "outputs": [],
   "source": [
    "# Load data\n",
    "dat=io.loadmat(\"D:\\Machine Learning\\Machine Learning Course Era\\machine-learning-ex3\\machine-learning-ex3\\ex3\\ex3data1.mat\")\n",
    "raw_dat=np.concatenate((dat['X'], dat['y']), axis=1)\n",
    "shf_dat=shuffle(raw_dat)"
   ]
  },
  {
   "cell_type": "code",
   "execution_count": 3,
   "metadata": {},
   "outputs": [
    {
     "name": "stdout",
     "output_type": "stream",
     "text": [
      "Classes:  [0. 1. 2. 3. 4. 5. 6. 7. 8. 9.]\n",
      "Shape of X Data:  (5000, 400)\n",
      "Shape of Y Data:  (5000, 1)\n"
     ]
    }
   ],
   "source": [
    "# Create input and output arrays from loaded data\n",
    "X=shf_dat[:,0:400]\n",
    "Y=shf_dat[:,400]\n",
    "Y[Y==10]=0\n",
    "Y=Y.reshape((len(Y),1))\n",
    "numclass=np.unique(Y)\n",
    "print('Classes: ', numclass)\n",
    "\n",
    "\n",
    "print('Shape of X Data: ', X.shape)\n",
    "print('Shape of Y Data: ', Y.shape)\n",
    "\n",
    "# Convert the labels to 10 point arrays with 1 at Label number\n",
    "Target=np.zeros((Y.shape[0], len(numclass)))\n",
    "for i in range(Y.shape[0]):\n",
    "    Target[i,int(Y[i,0])]=1.0\n"
   ]
  },
  {
   "cell_type": "code",
   "execution_count": 5,
   "metadata": {},
   "outputs": [
    {
     "data": {
      "text/plain": [
       "((3500, 400), (3500, 10))"
      ]
     },
     "execution_count": 5,
     "metadata": {},
     "output_type": "execute_result"
    }
   ],
   "source": [
    "# Split the data\n",
    "from sklearn.model_selection import train_test_split\n",
    "\n",
    "X_train, X_val, Y_train, Y_val=train_test_split(X, Target, test_size=0.3, random_state=42)\n",
    "X_val, X_test, Y_val, Y_test=train_test_split(X_val, Y_val, test_size=0.15, random_state=42)\n",
    "\n",
    "X_train.shape, Y_train.shape"
   ]
  },
  {
   "cell_type": "code",
   "execution_count": 6,
   "metadata": {},
   "outputs": [
    {
     "name": "stdout",
     "output_type": "stream",
     "text": [
      "Shape of Train Data:  (400, 3500) (10, 3500)\n",
      "Shape of Validation Data:  (400, 1275) (10, 1275)\n",
      "Shape of Test Data:  (400, 225) (10, 225)\n"
     ]
    }
   ],
   "source": [
    "# Create input and output arrays for splitted data\n",
    "\n",
    "X_train=np.transpose(X_train)\n",
    "X_val=np.transpose(X_val)\n",
    "X_test=np.transpose(X_test)\n",
    "\n",
    "Y_train=np.transpose(Y_train)\n",
    "Y_val=np.transpose(Y_val)\n",
    "Y_test=np.transpose(Y_test)\n",
    "\n",
    "print('Shape of Train Data: ', X_train.shape, Y_train.shape)\n",
    "print('Shape of Validation Data: ', X_val.shape, Y_val.shape)\n",
    "print('Shape of Test Data: ', X_test.shape, Y_test.shape)"
   ]
  },
  {
   "cell_type": "code",
   "execution_count": 7,
   "metadata": {},
   "outputs": [
    {
     "name": "stdout",
     "output_type": "stream",
     "text": [
      "[8.]\n",
      "[3.]\n",
      "[6.]\n",
      "[5.]\n",
      "[3.]\n",
      "[1.]\n",
      "[1.]\n",
      "[0.]\n",
      "[3.]\n",
      "[9.]\n",
      "[4.]\n",
      "[4.]\n",
      "[2.]\n",
      "[2.]\n",
      "[1.]\n",
      "[2.]\n",
      "[0.]\n",
      "[4.]\n",
      "[2.]\n",
      "[4.]\n"
     ]
    },
    {
     "data": {
      "image/png": "[encoded data removed]",
      "text/plain": [
       "<Figure size 576x576 with 20 Axes>"
      ]
     },
     "metadata": {
      "needs_background": "light"
     },
     "output_type": "display_data"
    }
   ],
   "source": [
    "# Visualize random images from input data:\n",
    "\n",
    "randimg=np.random.randint(5000, size=(20))\n",
    "rows=4\n",
    "cols=5\n",
    "\n",
    "fig=plt.figure(figsize=(8,8))\n",
    "for i in range(len(randimg)):\n",
    "    fig.add_subplot(rows, cols, i+1)\n",
    "    plt.imshow(np.transpose(X[randimg[i]].reshape(20,20)))\n",
    "    print(Y[randimg[i]])"
   ]
  },
  {
   "cell_type": "code",
   "execution_count": 8,
   "metadata": {},
   "outputs": [
    {
     "name": "stdout",
     "output_type": "stream",
     "text": [
      "shape of X_train : (400, 3500)\n",
      "shape of Y_train : (10, 3500)\n",
      "shape of X_test : (400, 225)\n",
      "shape of Y_test : (10, 225)\n"
     ]
    }
   ],
   "source": [
    "#X_train = np.loadtxt('Downloads/train_X.csv', delimiter = ',').T\n",
    "#Y_train = np.loadtxt('Downloads/train_label.csv', delimiter = ',').T\n",
    "\n",
    "#X_test = np.loadtxt('Downloads/test_X.csv', delimiter = ',').T\n",
    "#Y_test = np.loadtxt('Downloads/test_label.csv', delimiter = ',').T\n",
    "print(\"shape of X_train :\", X_train.shape)\n",
    "print(\"shape of Y_train :\", Y_train.shape)\n",
    "print(\"shape of X_test :\", X_test.shape)\n",
    "print(\"shape of Y_test :\", Y_test.shape)"
   ]
  },
  {
   "cell_type": "code",
   "execution_count": 10,
   "metadata": {},
   "outputs": [],
   "source": [
    "# Define activation functions\n",
    "\n",
    "def tanh(x):\n",
    "    return np.tanh(x)\n",
    "\n",
    "def sigmoid(x):\n",
    "    return 1/(1+np.exp(-z))\n",
    "\n",
    "def relu(x):\n",
    "    return np.maximum(x,0)\n",
    "\n",
    "def softmax(x):\n",
    "    expX=np.exp(x)\n",
    "    return expX/np.sum(expX, axis=0)"
   ]
  },
  {
   "cell_type": "code",
   "execution_count": 11,
   "metadata": {},
   "outputs": [],
   "source": [
    "# Define derivation of activation functions \n",
    "\n",
    "def dertanh(x):\n",
    "    return (1 - np.power(np.tanh(x), 2))\n",
    "\n",
    "def derrelu(x):\n",
    "    return np.array(x>0, dtype='float32')\n",
    "\n",
    "def dersigmoid(x):\n",
    "    return np.multiply(x,(1-x))"
   ]
  },
  {
   "cell_type": "code",
   "execution_count": 12,
   "metadata": {},
   "outputs": [],
   "source": [
    "# Inititalize the weight and biasing matrices\n",
    "\n",
    "def initialize_parameters(nx, nh, ny):\n",
    "    w1=np.random.randn(nh,nx)*0.01\n",
    "    b1=np.zeros((nh,1))\n",
    "    \n",
    "    w2=np.random.randn(ny,nh)*0.01\n",
    "    b2=np.zeros((ny,1))\n",
    "    \n",
    "    parameters={'w1':w1,\n",
    "                 'b1':b1,\n",
    "                 'w2':w2,\n",
    "                 'b2':b2}\n",
    "    return parameters"
   ]
  },
  {
   "cell_type": "code",
   "execution_count": 13,
   "metadata": {},
   "outputs": [],
   "source": [
    "# Forward Propagation Step\n",
    "def forward_propagation(x, parameters):\n",
    "    \n",
    "    w1=parameters['w1']\n",
    "    b1=parameters['b1']\n",
    "    \n",
    "    w2=parameters['w2']\n",
    "    b2=parameters['b2']\n",
    "    \n",
    "    z1=np.dot(w1,x)+b1\n",
    "    a1=tanh(z1)\n",
    "    \n",
    "    z2=np.dot(w2,a1)+b2\n",
    "    a2=softmax(z2)\n",
    "    \n",
    "    forward_cache={'z1':z1,\n",
    "                   'a1':a1,\n",
    "                   'z2':z2,\n",
    "                   'a2':a2}\n",
    "    \n",
    "    return forward_cache\n",
    "    "
   ]
  },
  {
   "cell_type": "code",
   "execution_count": 14,
   "metadata": {},
   "outputs": [],
   "source": [
    "# Define cost function\n",
    "def cost_function(a2,y):\n",
    "    m=y.shape[1]\n",
    "    cost=-1/m*np.sum(y*np.log(a2))\n",
    "    return cost"
   ]
  },
  {
   "cell_type": "code",
   "execution_count": 15,
   "metadata": {},
   "outputs": [],
   "source": [
    "# define backward propagation:\n",
    "\n",
    "def backward_propagation(x,y,parameters, forward_cache):\n",
    "    w1 = parameters['w1']\n",
    "    b1 = parameters['b1']\n",
    "    w2 = parameters['w2']\n",
    "    b2 = parameters['b2']\n",
    "    \n",
    "    a1 = forward_cache['a1']\n",
    "    a2 = forward_cache['a2']\n",
    "    \n",
    "    m = x.shape[1]\n",
    "    \n",
    "    dz2 = (a2 - y)\n",
    "    dw2 = (1/m)*np.dot(dz2, a1.T)\n",
    "    db2 = (1/m)*np.sum(dz2, axis = 1, keepdims = True)\n",
    "    \n",
    "    dz1 = (1/m)*np.dot(w2.T, dz2)*dertanh(a1)\n",
    "    dw1 = (1/m)*np.dot(dz1, x.T)\n",
    "    db1 = (1/m)*np.sum(dz1, axis = 1, keepdims = True)\n",
    "    \n",
    "    gradients = {\n",
    "        \"dw1\" : dw1,\n",
    "        \"db1\" : db1,\n",
    "        \"dw2\" : dw2,\n",
    "        \"db2\" : db2\n",
    "    }\n",
    "    \n",
    "    \n",
    "    return gradients\n",
    "    \n",
    "    "
   ]
  },
  {
   "cell_type": "code",
   "execution_count": 16,
   "metadata": {},
   "outputs": [],
   "source": [
    "# Update the weight and biasing matrix\n",
    "\n",
    "def update_parameters(parameters, gradients, learning_rate):\n",
    "    w1=parameters['w1']\n",
    "    b1=parameters['b1']\n",
    "    \n",
    "    w2=parameters['w2']\n",
    "    b2=parameters['b2']\n",
    "    \n",
    "    dw1=gradients['dw1']\n",
    "    db1=gradients['db1']\n",
    "    \n",
    "    dw2=gradients['dw2']\n",
    "    db2=gradients['db2']\n",
    "    \n",
    "    #print(np.max(dw1, axis=0))\n",
    "    #print(dw2)\n",
    "    \n",
    "    w1=w1-learning_rate*dw1\n",
    "    b1=b1-learning_rate*db1\n",
    "    \n",
    "    w2=w2-learning_rate*dw2\n",
    "    b2=b2-learning_rate*db2\n",
    "    \n",
    "    parameters={'w1':w1,\n",
    "                 'b1':b1,\n",
    "                 'w2':w2,\n",
    "                 'b2':b2}\n",
    "    return parameters"
   ]
  },
  {
   "cell_type": "code",
   "execution_count": 17,
   "metadata": {},
   "outputs": [],
   "source": [
    "# combine all the steps to create the model\n",
    "def model(x,y,nh, learning_rate, itr):\n",
    "    nx=x.shape[0]\n",
    "    ny=y.shape[0]\n",
    "    \n",
    "    parameters=initialize_parameters(nx,nh,ny)\n",
    "    \n",
    "    cost_list=[]\n",
    "    \n",
    "    for i in range(itr):\n",
    "        forward_cache=forward_propagation(x, parameters)\n",
    "        cost=cost_function(forward_cache['a2'],y)\n",
    "        gradients=backward_propagation(x,y,parameters, forward_cache)\n",
    "        #print(np.max(gradients['dw2'][:,0:2]))\n",
    "        parameters=update_parameters(parameters, gradients, learning_rate)\n",
    "        \n",
    "        cost_list.append(cost)\n",
    "        \n",
    "        if(i%(itr/10)==0):\n",
    "           print('Cost after ', i, 'iterations: ', cost)\n",
    "           \n",
    "    \n",
    "    return parameters, cost_list"
   ]
  },
  {
   "cell_type": "code",
   "execution_count": 24,
   "metadata": {},
   "outputs": [
    {
     "name": "stdout",
     "output_type": "stream",
     "text": [
      "Cost after  0 iterations:  2.2994509168802457\n",
      "Cost after  100 iterations:  1.0505351432211145\n",
      "Cost after  200 iterations:  0.7561344660965653\n",
      "Cost after  300 iterations:  0.6295271224781986\n",
      "Cost after  400 iterations:  0.557127270564014\n",
      "Cost after  500 iterations:  0.5092515532054194\n",
      "Cost after  600 iterations:  0.47471878726489164\n",
      "Cost after  700 iterations:  0.4483322946140413\n",
      "Cost after  800 iterations:  0.42732682986262305\n",
      "Cost after  900 iterations:  0.4100850787147592\n"
     ]
    }
   ],
   "source": [
    "# Train your madel\n",
    "itr=1000\n",
    "nh=1000\n",
    "Parameters, Cost_list=model(X_train, Y_train, nh, 0.5, itr)"
   ]
  },
  {
   "cell_type": "code",
   "execution_count": 36,
   "metadata": {},
   "outputs": [
    {
     "name": "stdout",
     "output_type": "stream",
     "text": [
      "Accuracy of Train Dataset 90.11428571428571 %\n",
      "Accuracy of Test Dataset 92.0 %\n"
     ]
    }
   ],
   "source": [
    "# Define and Calculate accuracy:\n",
    "\n",
    "def accuracy(x,y, parameters):\n",
    "    a_out=forward_propagation(x,parameters)\n",
    "    a_out=a_out['a2']\n",
    "    a_out=np.argmax(a_out, 0)\n",
    "    \n",
    "    labels=np.argmax(y,0)\n",
    "    \n",
    "    acc=np.mean(a_out==labels)*100\n",
    "    \n",
    "    return acc\n",
    "\n",
    "print(\"Accuracy of Train Dataset\", accuracy(X_train, Y_train, Parameters), \"%\")\n",
    "print(\"Accuracy of Test Dataset\", accuracy(X_test, Y_test, Parameters), \"%\")"
   ]
  },
  {
   "cell_type": "code",
   "execution_count": 37,
   "metadata": {},
   "outputs": [
    {
     "ename": "SyntaxError",
     "evalue": "invalid syntax (<ipython-input-37-55f92fd9bfd6>, line 1)",
     "output_type": "error",
     "traceback": [
      "\u001b[1;36m  File \u001b[1;32m\"<ipython-input-37-55f92fd9bfd6>\"\u001b[1;36m, line \u001b[1;32m1\u001b[0m\n\u001b[1;33m    https://github.com/tusharg025/Codes.git\u001b[0m\n\u001b[1;37m          ^\u001b[0m\n\u001b[1;31mSyntaxError\u001b[0m\u001b[1;31m:\u001b[0m invalid syntax\n"
     ]
    }
   ],
   "source": [
    "https://github.com/tusharg025/Codes.git"
   ]
  },
  {
   "cell_type": "code",
   "execution_count": null,
   "metadata": {},
   "outputs": [],
   "source": []
  }
 ],
 "metadata": {
  "kernelspec": {
   "display_name": "Python 3",
   "language": "python",
   "name": "python3"
  },
  "language_info": {
   "codemirror_mode": {
    "name": "ipython",
    "version": 3
   },
   "file_extension": ".py",
   "mimetype": "text/x-python",
   "name": "python",
   "nbconvert_exporter": "python",
   "pygments_lexer": "ipython3",
   "version": "3.9.1"
  }
 },
 "nbformat": 4,
 "nbformat_minor": 4
}
